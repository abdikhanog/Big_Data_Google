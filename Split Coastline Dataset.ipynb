{
 "cells": [
  {
   "cell_type": "code",
   "execution_count": 2,
   "metadata": {},
   "outputs": [],
   "source": [
    "import pandas as pd\n",
    "from sklearn.model_selection import train_test_split\n",
    "\n",
    "Images_DF = pd.read_csv(\"labels.csv\")\n",
    "Images_DF.head()\n",
    "\n",
    "Images_DF.columns = ['gsurl', 'class']\n",
    "\n",
    "Images_DF['gsurl'] = Images_DF['gsurl'].str.replace('JPG', 'jpg', case=True)\n",
    "\n",
    "X = Images_DF[['gsurl']]\n",
    "Y = Images_DF[['class']]\n",
    "\n",
    "X_train, X_test, Y_train, Y_test = train_test_split(X, Y, test_size=0.2, random_state=0)\n",
    "\n",
    "train_set = pd.concat([X_train, Y_train], axis=1)\n",
    "train_set.head()\n",
    "\n",
    "eval_set = pd.concat([X_test, Y_test], axis=1)\n",
    "eval_set.head()\n",
    "\n",
    "train_set.to_csv('train_set.csv', index=False, header=False)\n",
    "eval_set.to_csv('eval_set.csv', index=False, header=False)"
   ]
  },
  {
   "cell_type": "code",
   "execution_count": null,
   "metadata": {},
   "outputs": [],
   "source": []
  }
 ],
 "metadata": {
  "kernelspec": {
   "display_name": "Python 3",
   "language": "python",
   "name": "python3"
  },
  "language_info": {
   "codemirror_mode": {
    "name": "ipython",
    "version": 3
   },
   "file_extension": ".py",
   "mimetype": "text/x-python",
   "name": "python",
   "nbconvert_exporter": "python",
   "pygments_lexer": "ipython3",
   "version": "3.6.7"
  }
 },
 "nbformat": 4,
 "nbformat_minor": 2
}
